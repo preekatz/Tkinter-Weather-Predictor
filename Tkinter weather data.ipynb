{
 "cells": [
  {
   "cell_type": "code",
   "execution_count": null,
   "metadata": {},
   "outputs": [],
   "source": [
    "from tkinter import *\n",
    "import requests\n",
    "import json\n",
    "root = Tk()\n",
    "root.geometry(\"500x220\")\n",
    "\n",
    "def getweather():\n",
    "    city=E1.get()\n",
    "    url =\"https://api.openweathermap.org/data/2.5/weather?q=\"+city+\"&appid=cbf40c31dc6e53a5b63069b956572b3a\"\n",
    "    response=requests.get(url)\n",
    "    data=response.json()\n",
    "    fa=int((data['main']['temp']-273.15)*(9/5)+32)\n",
    "    bottomframe=Frame(root,width=10,highlightbackground=\"#90c1ff\", highlightcolor=\"#90c1ff\", highlightthickness=4)\n",
    "    bottomframe.place(relx = 0.2, rely = 0.5,height=100,width=300)\n",
    "    cityname=data['name']\n",
    "    clabel=Label(bottomframe,text=\"City: \"+cityname)\n",
    "    clabel.pack()\n",
    "    temp=Label(bottomframe,text=\"Temperature: \"+str(fa)+\"°F\")\n",
    "    temp.pack()\n",
    "    val=data['weather'][0]['description']\n",
    "    con=Label(bottomframe,text=\"Conditions: \"+val)\n",
    "    con.pack()\n",
    "   \n",
    "    \n",
    "fname = \"landscapel.gif\"\n",
    "bg_image = PhotoImage(file=fname)\n",
    "cv = Canvas()\n",
    "cv.pack(fill='both', expand='yes')\n",
    "cv.create_image(0, 0, image=bg_image)\n",
    "E1=Entry(cv,bd=6,font=('Courier', 12),highlightbackground=\"#90c1ff\", highlightcolor=\"#90c1ff\", highlightthickness=5)\n",
    "E1.grid(row=0,column=0,ipadx =\"60\",padx=12,pady=6)\n",
    "B1=Button(cv,text=\"Get Weather\",command=getweather,font=('Courier', 10),borderwidth=5).grid(row=0,column=1,padx=10,pady=7)\n",
    "\n",
    "\n",
    "root.mainloop()"
   ]
  }
 ],
 "metadata": {
  "kernelspec": {
   "display_name": "Python 3",
   "language": "python",
   "name": "python3"
  },
  "language_info": {
   "codemirror_mode": {
    "name": "ipython",
    "version": 3
   },
   "file_extension": ".py",
   "mimetype": "text/x-python",
   "name": "python",
   "nbconvert_exporter": "python",
   "pygments_lexer": "ipython3",
   "version": "3.6.4"
  }
 },
 "nbformat": 4,
 "nbformat_minor": 2
}
